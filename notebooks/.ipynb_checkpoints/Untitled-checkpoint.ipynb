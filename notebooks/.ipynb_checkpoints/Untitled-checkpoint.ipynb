{
 "cells": [
  {
   "cell_type": "markdown",
   "id": "0590b85b-7161-46d7-9d58-d5e27bb24ced",
   "metadata": {},
   "source": [
    "# Train LSTM on CGM Data\n",
    "\n",
    "This notebook cell series demonstrates loading CGM data from `cgm/data/Clarity_Export_Harlow_Iain_2025-05-20_233242.csv`, preparing it into sliding windows, and comparing multiple recurrent architectures (LSTM vs GRU) and hyperparameter settings to predict the next glucose value.\n"
   ]
  },
  {
   "cell_type": "code",
   "execution_count": null,
   "id": "bb506a64-c388-48d6-ab24-0aca682ccb34",
   "metadata": {},
   "outputs": [],
   "source": [
    "# Add project root and import helper functions\n",
    "import sys, os\n",
    "sys.path.append(os.path.abspath('..'))  # ensure 'scripts' is on PYTHONPATH\n",
    "from scripts.train_lstm_cgm import load_data, create_sequences\n",
    "\n",
    "import pandas as pd\n",
    "import numpy as np\n",
    "from sklearn.preprocessing import MinMaxScaler\n",
    "from tensorflow.keras.models import Sequential\n",
    "from tensorflow.keras.layers import LSTM, GRU, Dense\n",
    "from tensorflow.keras.callbacks import EarlyStopping\n",
    "from tensorflow.keras.optimizers import Adam\n",
    "\n",
    "# Configuration\n",
    "DATA_FILE = '../data/Clarity_Export_Harlow_Iain_2025-05-20_233242.csv'\n",
    "SEQ_LENGTH = 24\n",
    "MODELS = [\n",
    "    {'type': 'LSTM', 'units': 50},\n",
    "    {'type': 'LSTM', 'units': 100},\n",
    "    {'type': 'GRU',  'units': 50},\n",
    "]\n",
    "\n",
    "# Load and scale\n",
    "df = load_data(DATA_FILE)\n",
    "scaler = MinMaxScaler()\n",
    "scaled = scaler.fit_transform(df.values)\n",
    "X, y = create_sequences(scaled, SEQ_LENGTH)\n",
    "X = X.reshape((len(X), SEQ_LENGTH, 1))\n",
    "\n",
    "# Train, evaluate, and collect results\n",
    "results = []\n",
    "for cfg in MODELS:\n",
    "    model = Sequential()\n",
    "    layer = LSTM if cfg['type']=='LSTM' else GRU\n",
    "    model.add(layer(cfg['units'], activation='relu', input_shape=(SEQ_LENGTH,1)))\n",
    "    model.add(Dense(1))\n",
    "    model.compile(optimizer=Adam(1e-3), loss='mse')\n",
    "\n",
    "    es = EarlyStopping(monitor='val_loss', patience=5, restore_best_weights=True)\n",
    "    history = model.fit(\n",
    "        X, y,\n",
    "        epochs=30,\n",
    "        batch_size=32,\n",
    "        validation_split=0.2,\n",
    "        callbacks=[es],\n",
    "        verbose=0\n",
    "    )\n",
    "    best_val = min(history.history['val_loss'])\n",
    "    results.append({'model': f\"{cfg['type']}_{cfg['units']}\", 'val_loss': best_val})\n",
    "\n",
    "# Compare\n",
    "import pandas as pd\n",
    "results_df = pd.DataFrame(results).sort_values('val_loss').reset_index(drop=True)\n",
    "results_df"
   ]
  }
 ],
 "metadata": {
  "kernelspec": {
   "display_name": "Python (cgm-venv)",
   "language": "python",
   "name": "cgm-venv"
  },
  "language_info": {
   "codemirror_mode": {
    "name": "ipython",
    "version": 3
   },
   "file_extension": ".py",
   "mimetype": "text/x-python",
   "name": "python",
   "nbconvert_exporter": "python",
   "pygments_lexer": "ipython3",
   "version": "3.9.6"
  }
 },
 "nbformat": 4,
 "nbformat_minor": 5
}
